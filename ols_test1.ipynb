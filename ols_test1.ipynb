{
 "cells": [
  {
   "cell_type": "markdown",
   "metadata": {},
   "source": [
    "# Giới thiệu\n",
    "\n",
    "Chém gió một cái gì đó: "
   ]
  },
  {
   "cell_type": "code",
   "execution_count": 1,
   "metadata": {
    "collapsed": true
   },
   "outputs": [],
   "source": [
    "# Load gói và bộ dữ liệu Boston: \n",
    "import mglearn\n",
    "X, y = mglearn.datasets.load_extended_boston()\n",
    "\n",
    "# Thực hiện phân chia dữ liệu: \n",
    "from sklearn.model_selection import train_test_split\n",
    "X_train, X_test, y_train, y_test = train_test_split(X, \n",
    "                                                    y, \n",
    "                                                    test_size = 2 / 10,\n",
    "                                                    random_state = 0)\n",
    "\n",
    "# Load hàm hồi quy tuyến  tính OLS: \n",
    "from sklearn.linear_model import LinearRegression\n",
    "lr = LinearRegression().fit(X_train, y_train)"
   ]
  },
  {
   "cell_type": "markdown",
   "metadata": {},
   "source": [
    "Giải thích tiếp đi: "
   ]
  },
  {
   "cell_type": "code",
   "execution_count": 2,
   "metadata": {},
   "outputs": [
    {
     "data": {
      "text/plain": [
       "0.61377746557507129"
      ]
     },
     "execution_count": 2,
     "metadata": {},
     "output_type": "execute_result"
    }
   ],
   "source": [
    "# Thực hiện hồi quy tuyến  tính: \n",
    "lr = LinearRegression().fit(X_train, y_train) \n",
    "\n"
   ]
  },
  {
   "cell_type": "code",
   "execution_count": 5,
   "metadata": {},
   "outputs": [
    {
     "data": {
      "text/plain": [
       "0.94930612159168304"
      ]
     },
     "execution_count": 5,
     "metadata": {},
     "output_type": "execute_result"
    }
   ],
   "source": [
    "# R2 cho dữ  liệu train  và test: \n",
    "lr.score(X_train, y_train)\n"
   ]
  },
  {
   "cell_type": "code",
   "execution_count": 7,
   "metadata": {},
   "outputs": [
    {
     "data": {
      "text/plain": [
       "0.61377746557507129"
      ]
     },
     "execution_count": 7,
     "metadata": {},
     "output_type": "execute_result"
    }
   ],
   "source": [
    "lr.score(X_test, y_test)"
   ]
  },
  {
   "cell_type": "code",
   "execution_count": 8,
   "metadata": {
    "collapsed": true
   },
   "outputs": [],
   "source": [
    "from sklearn.linear_model import Ridge\n",
    "# Thiết lập một dải của  alpha cần khảo sát: \n",
    "    \n",
    "alpha_list = [0.00001, 0.0001, 0.001, 0.01, 1, 2, 3, 4, 5, 10, 20, 30, 80, 100]\n",
    "len(alpha_list)\n",
    "\n",
    "# Tạo ra hai array trống:     \n",
    "training_accuracy = []\n",
    "testing_accuracy = []\n",
    "\n",
    "# Viết vòng lặp for loop chạy 10 mô hình này: \n",
    "for i in alpha_list: \n",
    "    ridge = Ridge(alpha = i).fit(X_train, y_train)\n",
    "    training_accuracy.append(ridge.score(X_train, y_train))\n",
    "    testing_accuracy.append(ridge.score(X_test, y_test))"
   ]
  },
  {
   "cell_type": "code",
   "execution_count": 13,
   "metadata": {},
   "outputs": [
    {
     "data": {
      "text/plain": [
       "[0.94897198132003524,\n",
       " 0.94880077740335533,\n",
       " 0.94805464860368893,\n",
       " 0.94198147733947801,\n",
       " 0.88605197264658642,\n",
       " 0.86339233517060299,\n",
       " 0.84772019449629166,\n",
       " 0.83571580737937445,\n",
       " 0.825983174005397,\n",
       " 0.79350366584665388,\n",
       " 0.75525203277410702,\n",
       " 0.72751358911971087,\n",
       " 0.6344698852515509,\n",
       " 0.6081178692361866]"
      ]
     },
     "execution_count": 13,
     "metadata": {},
     "output_type": "execute_result"
    }
   ],
   "source": [
    "training_accuracy"
   ]
  },
  {
   "cell_type": "code",
   "execution_count": 14,
   "metadata": {},
   "outputs": [
    {
     "name": "stdout",
     "output_type": "stream",
     "text": [
      "Hello\n"
     ]
    }
   ],
   "source": [
    "# Biểu diễn R2 (Accuracy): \n",
    "print(\"Hello\")"
   ]
  },
  {
   "cell_type": "code",
   "execution_count": null,
   "metadata": {
    "collapsed": true
   },
   "outputs": [],
   "source": []
  }
 ],
 "metadata": {
  "kernelspec": {
   "display_name": "Python 3",
   "language": "python",
   "name": "python3"
  },
  "language_info": {
   "codemirror_mode": {
    "name": "ipython",
    "version": 3
   },
   "file_extension": ".py",
   "mimetype": "text/x-python",
   "name": "python",
   "nbconvert_exporter": "python",
   "pygments_lexer": "ipython3",
   "version": "3.6.3"
  }
 },
 "nbformat": 4,
 "nbformat_minor": 2
}
